{
  "nbformat": 4,
  "nbformat_minor": 0,
  "metadata": {
    "colab": {
      "name": "Ascify.ipynb",
      "provenance": [],
      "collapsed_sections": []
    },
    "kernelspec": {
      "name": "python3",
      "display_name": "Python 3"
    },
    "language_info": {
      "name": "python"
    }
  },
  "cells": [
    {
      "cell_type": "markdown",
      "metadata": {
        "id": "b8CLa1Hk1QTK"
      },
      "source": [
        "# ASCIFY\n",
        "\n",
        "Simple script converting images to set of ascii signs."
      ]
    },
    {
      "cell_type": "code",
      "metadata": {
        "id": "XmpD7wMYz71W",
        "colab": {
          "base_uri": "https://localhost:8080/"
        },
        "outputId": "6bcc836c-9d8c-4f88-e761-90e8cc0e3945"
      },
      "source": [
        "import cv2 as cv\n",
        "\n",
        "\n",
        "chars = ['G', 'N', 'F', 'O', 'K', '%', 'E', 'V', 'L', 'I', '*', '+', ':', '.', ' ']\n",
        "\n",
        "\n",
        "img_color = cv.imread('eiffel.jpg', cv.COLOR_BGR2RGB)\n",
        "img_bw = cv.cvtColor(img_color, cv.COLOR_RGB2GRAY)\n",
        "file = open('ascii_img.txt', 'w')\n",
        "\n",
        "ascii_tab = []\n",
        "\n",
        "for i in range(img_bw.shape[0]):\n",
        "    for k in range(img_bw.shape[1]):\n",
        "        file.write(f'{chars[int(img_bw[i][k]/17-1)]}')\n",
        "    file.write('\\n')\n",
        "file.close()\n",
        "print('File generated')\n"
      ],
      "execution_count": 3,
      "outputs": [
        {
          "output_type": "stream",
          "text": [
            "File generated\n"
          ],
          "name": "stdout"
        }
      ]
    }
  ]
}