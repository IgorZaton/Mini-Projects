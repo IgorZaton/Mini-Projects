{
  "nbformat": 4,
  "nbformat_minor": 0,
  "metadata": {
    "colab": {
      "name": "markovChains.ipynb",
      "provenance": []
    },
    "kernelspec": {
      "name": "python3",
      "display_name": "Python 3"
    },
    "language_info": {
      "name": "python"
    }
  },
  "cells": [
    {
      "cell_type": "markdown",
      "metadata": {
        "id": "VvxeLiQdCLq5"
      },
      "source": [
        "**Text generator based on Markov Chain**\n",
        "\n",
        "This mini-project read text from txt file, create markov chain out of it and perform random walk to generate text in specific style. In my code I use some of Sherlock Holmes stories as a base."
      ]
    },
    {
      "cell_type": "markdown",
      "metadata": {
        "id": "X-CFCDdwC5Kd"
      },
      "source": [
        "Necessary imports."
      ]
    },
    {
      "cell_type": "code",
      "metadata": {
        "id": "WZQbwav2iM08"
      },
      "source": [
        "import random"
      ],
      "execution_count": 59,
      "outputs": []
    },
    {
      "cell_type": "markdown",
      "metadata": {
        "id": "ne3xtaElDJUk"
      },
      "source": [
        "Utility functions."
      ]
    },
    {
      "cell_type": "code",
      "metadata": {
        "id": "kzg6pw30Bo09"
      },
      "source": [
        "def weighted_random(prob_vec):\n",
        "    rand_val = random.random()\n",
        "    pre_total = 0\n",
        "    total = 0\n",
        "    for i in range(len(prob_vec)):\n",
        "      total += prob_vec[i]\n",
        "      if pre_total <= rand_val < total:\n",
        "        return i\n",
        "      else:\n",
        "        pre_total = total"
      ],
      "execution_count": 60,
      "outputs": []
    },
    {
      "cell_type": "code",
      "metadata": {
        "id": "pz-SfU-jQBuL"
      },
      "source": [
        "def clean_text(text):\n",
        "  text = text.lower()\n",
        "  t = text.split()\n",
        "  t = np.array(t)\n",
        "  for c in ['\\\\','`','*','_','{','}','[',']','(',')','>','#','+','-','.','!','$','\\'', ':', '|']:\n",
        "    t = np.char.replace(t, c, '')\n",
        "  return t"
      ],
      "execution_count": 65,
      "outputs": []
    },
    {
      "cell_type": "markdown",
      "metadata": {
        "id": "L5-MkQbRDRjs"
      },
      "source": [
        "Markov chain related functions."
      ]
    },
    {
      "cell_type": "code",
      "metadata": {
        "id": "VZHxxXqLjzH1"
      },
      "source": [
        "def markov_walk(markov_chain, start, iterations=10):\n",
        "  walk=[]\n",
        "  walk.append(start)\n",
        "  prob = markov_chain[start]\n",
        "  for i in range(iterations):\n",
        "    key_num = weighted_random(prob)\n",
        "    walk.append(list(markov_chain.keys())[key_num])\n",
        "    prob = markov_chain[list(markov_chain.keys())[key_num]]\n",
        "  return walk"
      ],
      "execution_count": 62,
      "outputs": []
    },
    {
      "cell_type": "code",
      "metadata": {
        "id": "qDeEMUSSO_TS"
      },
      "source": [
        "def create_markov_chain(text):\n",
        "  chain = {}\n",
        "  word_cnt = 0\n",
        "  for t in text:\n",
        "    if t in chain.keys():\n",
        "      idx = list(chain.keys()).index(t)\n",
        "      chain[prev_t][idx] += 1\n",
        "      prev_t = t\n",
        "    else:\n",
        "      word_cnt += 1\n",
        "      for k in chain.keys():\n",
        "        chain[k].append(0)\n",
        "      if word_cnt>1:\n",
        "          chain[prev_t][-1]+=1\n",
        "      chain[t]=[0 for i in range(word_cnt)]\n",
        "      prev_t=t\n",
        "\n",
        "  for k in chain.keys():\n",
        "      if sum(chain[k])>0:\n",
        "        chain[k] = [chain[k][i]/sum(chain[k]) for i in range(len(chain[k]))]\n",
        "  return chain"
      ],
      "execution_count": 63,
      "outputs": []
    },
    {
      "cell_type": "markdown",
      "metadata": {
        "id": "u2yYovcVDZTR"
      },
      "source": [
        "Use case."
      ]
    },
    {
      "cell_type": "code",
      "metadata": {
        "colab": {
          "base_uri": "https://localhost:8080/"
        },
        "id": "rS_Op-XDiXB0",
        "outputId": "b5264ba4-a3b4-4f06-c95b-0abcbac7a13b"
      },
      "source": [
        "txt = open('holmes.txt', 'r').read()\n",
        "txt = clean_text(txt)\n",
        "\n",
        "markov_chain = create_markov_chain(txt)\n",
        "print(markov_walk(markov_chain, \"is\"))\n"
      ],
      "execution_count": 66,
      "outputs": [
        {
          "output_type": "stream",
          "text": [
            "['is', 'possible\"', '\"more', 'than', 'one', 'twelve', 'months', 'of', 'the', 'morning,', 'and']\n"
          ],
          "name": "stdout"
        }
      ]
    }
  ]
}